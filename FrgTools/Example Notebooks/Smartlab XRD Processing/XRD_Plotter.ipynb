{
 "cells": [
  {
   "cell_type": "code",
   "execution_count": 1425,
   "metadata": {},
   "outputs": [],
   "source": [
    "import frgtools.misc as frgm\n",
    "import numpy as np\n",
    "import matplotlib.pyplot as plt\n",
    "from matplotlib import style\n",
    "style.use('ggplot') or plt.style.use('ggplot')\n",
    "import frgtools.xrd as xrd\n",
    "import pandas as pd\n",
    "from scipy.signal import savgol_filter\n",
    "from scipy.signal import find_peaks_cwt\n",
    "from tqdm import tqdm\n",
    "import numpy.ma as ma"
   ]
  },
  {
   "cell_type": "code",
   "execution_count": 1426,
   "metadata": {},
   "outputs": [],
   "source": [
    "# from importlib import reload\n",
    "# reload(xrd)"
   ]
  },
  {
   "cell_type": "markdown",
   "metadata": {},
   "source": [
    "# Loading Raw Data File"
   ]
  },
  {
   "cell_type": "code",
   "execution_count": 1427,
   "metadata": {},
   "outputs": [
    {
     "name": "stdout",
     "output_type": "stream",
     "text": [
      "Files in 'Data':\n",
      "0:CsPbF3_AF_nK.ras\n",
      "1:CsPbF3_AF.ras\n",
      "2:CsPbF3_B_NK.ras\n",
      "3:CsPbF3.ras\n",
      "4:CsPbSnF3_25_5isl.ras\n",
      "5:CsPbSnF3_25.ras\n",
      "6:CsPbSnF3_50_5isl.ras\n",
      "7:CsPbSnF3_50.ras\n",
      "8:CsPbSnF3_75.ras\n",
      "9:KPbF3_fast.ras\n",
      "10:KPbF3.ras\n",
      "11:RbPbF3.ras\n"
     ]
    }
   ],
   "source": [
    "fids = frgm.listdir('Data')"
   ]
  },
  {
   "cell_type": "code",
   "execution_count": 1428,
   "metadata": {},
   "outputs": [],
   "source": [
    "Name=[''] * len(fids)\n",
    "Data=[''] * len(fids)\n",
    "for n in range(0, len(fids), 1):\n",
    "    Name[n] = fids[n].split('/')[-1].split('.ras')[0]"
   ]
  },
  {
   "cell_type": "code",
   "execution_count": 1429,
   "metadata": {},
   "outputs": [],
   "source": [
    "# Name"
   ]
  },
  {
   "cell_type": "code",
   "execution_count": 1430,
   "metadata": {},
   "outputs": [],
   "source": [
    "df = pd.DataFrame(Name, columns = ['Name'])\n",
    "# df[\"Name\"] = np.nan\n",
    "df[\"Date\"] = np.nan\n",
    "df[\"Time\"] = np.nan\n",
    "df[\"Type\"] = np.nan\n",
    "df[\"Scan_Mode\"] = np.nan\n",
    "df[\"Alpha_1\"] = np.nan\n",
    "df[\"Alpha_2\"] = np.nan\n",
    "df[\"Beta_1\"] = np.nan\n",
    "df[\"Current\"] = np.nan\n",
    "df[\"Voltage\"] = np.nan\n",
    "df[\"Scan_Axis\"] = np.nan\n",
    "df[\"Speed\"] = np.nan\n",
    "df[\"Speed_Units\"] = np.nan\n",
    "df[\"Step_Size\"] = np.nan\n",
    "df[\"Aperture_Size\"] = np.nan\n",
    "df[\"Slot_1\"] = np.nan\n",
    "df[\"Slot_2\"] = np.nan\n",
    "df[\"Start\"] = np.nan\n",
    "df[\"Stop\"] = np.nan\n",
    "\n",
    "df[\"Angles\"] = np.nan\n",
    "df[\"Counts_Raw\"] = np.nan\n",
    "df[\"Counts_Norm\"] = np.nan\n",
    "df[\"Counts_F1\"] = np.nan\n",
    "df[\"Peak_Index\"] = np.nan\n",
    "df[\"Peak_Angle\"] = np.nan\n",
    "df[\"Counts_F4\"] = np.nan\n",
    "df[\"Peak_Intensity\"] = np.nan"
   ]
  },
  {
   "cell_type": "code",
   "execution_count": 1431,
   "metadata": {},
   "outputs": [],
   "source": [
    "# df"
   ]
  },
  {
   "cell_type": "code",
   "execution_count": 1432,
   "metadata": {},
   "outputs": [],
   "source": [
    "df = df.astype('object')\n",
    "\n",
    "for n in range(0, len(fids), 1):\n",
    "    Data[n] = xrd.LoadSmartlab(fids[n])\n",
    "\n",
    "# for n in range(0, len(fids), 1):\n",
    "for n in range(len(Samples)):\n",
    "\n",
    "    df.at[n,'Date'] = Data[n]['date']\n",
    "    df.at[n, 'Time'] = Data[n]['time']\n",
    "    df.at[n, 'Type'] = Data[n]['header']['MEAS_COND_OPT_ATTR']\n",
    "    df.at[n, 'Scan_Mode'] = Data[n]['scanmode']\n",
    "    \n",
    "    df.at[n, 'Alpha_1'] = float(Data[n]['header']['HW_XG_WAVE_LENGTH_ALPHA1'])\n",
    "    df.at[n, 'Alpha_2'] = float(Data[n]['header']['HW_XG_WAVE_LENGTH_ALPHA2'])\n",
    "    df.at[n, 'Beta_1'] = float(Data[n]['header']['HW_XG_WAVE_LENGTH_BETA']) \n",
    "    \n",
    "    df.at[n, 'Current'] = float(Data[n]['header']['MEAS_COND_XG_CURRENT'])\n",
    "    df.at[n, 'Voltage'] = float(Data[n]['header']['MEAS_COND_XG_VOLTAGE'])\n",
    "    df.at[n, 'Scan_Axis'] = Data[n]['header']['MEAS_SCAN_AXIS_X']  \n",
    "    df.at[n, 'Speed'] = Data[n]['header']['MEAS_SCAN_SPEED_USER']  \n",
    "    df.at[n, 'Speed_Units'] = Data[n]['header']['MEAS_SCAN_SPEED_UNIT']  \n",
    "    df.at[n, 'Step_Size'] = float(Data[n]['header']['MEAS_SCAN_STEP'])\n",
    "    \n",
    "    df.at[n, 'Aperture_Size'] = Data[n]['header']['MEAS_COND_AXIS_POSITION-22']  \n",
    "    df.at[n, 'Slot_1'] = Data[n]['header']['MEAS_COND_AXIS_POSITION-27']  \n",
    "    df.at[n, 'Slot_2'] = Data[n]['header']['MEAS_COND_AXIS_POSITION-28']  \n",
    "    \n",
    "    df.at[n, 'Start'] = float(Data[n]['header']['MEAS_SCAN_START'])\n",
    "    df.at[n, 'Stop'] = float(Data[n]['header']['MEAS_SCAN_STOP'])\n",
    "\n",
    "    df.at[n, 'Angles'] = Data[n]['angles']\n",
    "    df.at[n, 'Counts_Raw'] = Data[n]['counts']"
   ]
  },
  {
   "cell_type": "code",
   "execution_count": 1433,
   "metadata": {},
   "outputs": [],
   "source": [
    "# df"
   ]
  },
  {
   "cell_type": "code",
   "execution_count": 1436,
   "metadata": {},
   "outputs": [
    {
     "data": {
      "text/html": [
       "<div>\n",
       "<style scoped>\n",
       "    .dataframe tbody tr th:only-of-type {\n",
       "        vertical-align: middle;\n",
       "    }\n",
       "\n",
       "    .dataframe tbody tr th {\n",
       "        vertical-align: top;\n",
       "    }\n",
       "\n",
       "    .dataframe thead th {\n",
       "        text-align: right;\n",
       "    }\n",
       "</style>\n",
       "<table border=\"1\" class=\"dataframe\">\n",
       "  <thead>\n",
       "    <tr style=\"text-align: right;\">\n",
       "      <th></th>\n",
       "      <th>Name</th>\n",
       "      <th>Date</th>\n",
       "      <th>Time</th>\n",
       "      <th>Type</th>\n",
       "      <th>Scan_Mode</th>\n",
       "      <th>Alpha_1</th>\n",
       "      <th>Alpha_2</th>\n",
       "      <th>Beta_1</th>\n",
       "      <th>Current</th>\n",
       "      <th>Voltage</th>\n",
       "      <th>...</th>\n",
       "      <th>Start</th>\n",
       "      <th>Stop</th>\n",
       "      <th>Angles</th>\n",
       "      <th>Counts_Raw</th>\n",
       "      <th>Counts_Norm</th>\n",
       "      <th>Counts_F1</th>\n",
       "      <th>Peak_Index</th>\n",
       "      <th>Peak_Angle</th>\n",
       "      <th>Counts_F4</th>\n",
       "      <th>Peak_Intensity</th>\n",
       "    </tr>\n",
       "  </thead>\n",
       "  <tbody>\n",
       "    <tr>\n",
       "      <th>0</th>\n",
       "      <td>CsPbF3_AF_nK</td>\n",
       "      <td>07/16/19</td>\n",
       "      <td>18:40:43</td>\n",
       "      <td>Bragg-Brentano focusing</td>\n",
       "      <td>CONTINUOUS</td>\n",
       "      <td>1.54059</td>\n",
       "      <td>1.54441</td>\n",
       "      <td>1.39225</td>\n",
       "      <td>30</td>\n",
       "      <td>40</td>\n",
       "      <td>...</td>\n",
       "      <td>15</td>\n",
       "      <td>90</td>\n",
       "      <td>[15.0, 15.01, 15.02, 15.03, 15.04, 15.05, 15.0...</td>\n",
       "      <td>[3.0, 2.0, 3.0, 4.0, 4.0, 4.0, 1.0, 1.0, 4.0, ...</td>\n",
       "      <td>NaN</td>\n",
       "      <td>NaN</td>\n",
       "      <td>NaN</td>\n",
       "      <td>NaN</td>\n",
       "      <td>NaN</td>\n",
       "      <td>NaN</td>\n",
       "    </tr>\n",
       "  </tbody>\n",
       "</table>\n",
       "<p>1 rows × 27 columns</p>\n",
       "</div>"
      ],
      "text/plain": [
       "           Name      Date      Time                     Type   Scan_Mode  \\\n",
       "0  CsPbF3_AF_nK  07/16/19  18:40:43  Bragg-Brentano focusing  CONTINUOUS   \n",
       "\n",
       "   Alpha_1  Alpha_2   Beta_1 Current Voltage  ... Start Stop  \\\n",
       "0  1.54059  1.54441  1.39225      30      40  ...    15   90   \n",
       "\n",
       "                                              Angles  \\\n",
       "0  [15.0, 15.01, 15.02, 15.03, 15.04, 15.05, 15.0...   \n",
       "\n",
       "                                          Counts_Raw Counts_Norm Counts_F1  \\\n",
       "0  [3.0, 2.0, 3.0, 4.0, 4.0, 4.0, 1.0, 1.0, 4.0, ...         NaN       NaN   \n",
       "\n",
       "  Peak_Index Peak_Angle Counts_F4 Peak_Intensity  \n",
       "0        NaN        NaN       NaN            NaN  \n",
       "\n",
       "[1 rows x 27 columns]"
      ]
     },
     "execution_count": 1436,
     "metadata": {},
     "output_type": "execute_result"
    }
   ],
   "source": [
    "# Filtering out bugged curves (manual entry)\n",
    "# df = df[df.Name != 'KPbF3_fast']\n",
    "\n",
    "# plotting a subset of experiment\n",
    "# filter condition 1:\n",
    "df_filter1 = df[df.Name.str.contains(\"CsPb\")]\n",
    "# filter condition 2:\n",
    "df_filter2 = df_filter1[df_filter1.Name.str.contains(\"AF_nK\")]\n",
    "\n",
    "# # filter condition 3: #1 = reverse, #2 = forward, depends on actual settings when measurement taken\n",
    "# df_filter3 = df_filter2[df_filter2.Type.str.contains(\"2\")]\n",
    "\n",
    "df_filter2.reset_index(drop=True, inplace=True)\n",
    "\n",
    "# observing your dataset before plotting\n",
    "df_filter2"
   ]
  },
  {
   "cell_type": "markdown",
   "metadata": {},
   "source": [
    "## Looking at selected plots preprocessed"
   ]
  },
  {
   "cell_type": "code",
   "execution_count": 1437,
   "metadata": {},
   "outputs": [
    {
     "data": {
      "image/png": "[encoded data removed]",
      "text/plain": [
       "<Figure size 432x288 with 1 Axes>"
      ]
     },
     "metadata": {},
     "output_type": "display_data"
    }
   ],
   "source": [
    "# filtered DataFrame to Plot\n",
    "DF = df_filter2\n",
    "\n",
    "for q in range (0, len(DF), 1):\n",
    "\n",
    "    plt.plot(DF.loc[q]['Angles'],DF.loc[q]['Counts_Raw'], label=Name[q])\n",
    "\n",
    "plt.legend()\n",
    "plt.title('XRD')\n",
    "# plt.ylim(0,25)\n",
    "# plt.xlim(0,1.2)\n",
    "\n",
    "plt.ylabel('Intensity')\n",
    "plt.xlabel('2θ')\n",
    "plt.show()"
   ]
  },
  {
   "cell_type": "code",
   "execution_count": 1438,
   "metadata": {},
   "outputs": [
    {
     "data": {
      "text/plain": [
       "12"
      ]
     },
     "execution_count": 1438,
     "metadata": {},
     "output_type": "execute_result"
    }
   ],
   "source": [
    "row, col=np.shape(df)\n",
    "row"
   ]
  },
  {
   "cell_type": "markdown",
   "metadata": {},
   "source": [
    "## Normalizng All XRD Data"
   ]
  },
  {
   "cell_type": "code",
   "execution_count": 1439,
   "metadata": {},
   "outputs": [
    {
     "name": "stderr",
     "output_type": "stream",
     "text": [
      "100%|██████████| 12/12 [00:00<00:00, 874.37it/s]\n"
     ]
    }
   ],
   "source": [
    "for n in tqdm(range(0, row, 1)):\n",
    "    df['Counts_Norm'][n] = (df['Counts_Raw'][n]/ max(df['Counts_Raw'][0])).round(3)"
   ]
  },
  {
   "cell_type": "markdown",
   "metadata": {},
   "source": [
    "## Noise Filtering"
   ]
  },
  {
   "cell_type": "code",
   "execution_count": 1440,
   "metadata": {},
   "outputs": [
    {
     "name": "stderr",
     "output_type": "stream",
     "text": [
      "100%|██████████| 12/12 [00:00<00:00, 984.42it/s]\n"
     ]
    }
   ],
   "source": [
    "#savgol_filter to smooth the data\n",
    "for n in tqdm(range(0, row, 1)): # smothing filter\n",
    "    df['Counts_F1'][n] = (savgol_filter(df['Counts_Norm'][n], 31, 3)).round(3)\n"
   ]
  },
  {
   "cell_type": "markdown",
   "metadata": {},
   "source": [
    "## Peak Indexing"
   ]
  },
  {
   "cell_type": "code",
   "execution_count": 1441,
   "metadata": {},
   "outputs": [
    {
     "name": "stderr",
     "output_type": "stream",
     "text": [
      "100%|██████████| 12/12 [00:04<00:00,  2.48it/s]\n",
      "100%|██████████| 12/12 [00:00<00:00, 694.36it/s]\n"
     ]
    }
   ],
   "source": [
    "for n in tqdm(range(0, row, 1)): #peak index in angle array\n",
    "     df['Peak_Index'][n] = find_peaks_cwt(df['Counts_F1'][n], np.arange(10,15), noise_perc=0.02)\n",
    "\n",
    "for j in tqdm(range(0, row, 1)): #peak angles\n",
    "    test_list = []\n",
    "    for n in range(0, len(df['Peak_Index'][j])):\n",
    "        test_list.append(df['Angles'][j][df['Peak_Index'][j][n]])\n",
    "        test_list_2 = np.round(test_list,2)\n",
    "        [float(i) for i in test_list_2]\n",
    "        df.at[j, 'Peak_Angle'] = test_list_2\n",
    "        \n",
    "for n in range(0, row, 1): \n",
    "    df['Peak_Angle'][n] = np.asarray(df['Peak_Angle'][n])"
   ]
  },
  {
   "cell_type": "markdown",
   "metadata": {},
   "source": [
    "## Background Subtraction, Re-Normalization, and adding peak Values"
   ]
  },
  {
   "cell_type": "code",
   "execution_count": 1442,
   "metadata": {},
   "outputs": [
    {
     "name": "stderr",
     "output_type": "stream",
     "text": [
      "100%|██████████| 12/12 [00:00<00:00, 815.60it/s]\n"
     ]
    }
   ],
   "source": [
    "window = 12//2 #arbitary guess at width of peaks errors out of window spills over index\n",
    "                #this can happen if peak is located near end of index\n",
    "background=[]\n",
    "for j in range(0, row, 1): #peak angles\n",
    "    leftofpeak = []\n",
    "    rightofpeak = []\n",
    "    for n in range(0, len(df['Peak_Index'][j])):\n",
    "#         try:\n",
    "            leftofpeak.append(df['Counts_F1'][j][df['Peak_Index'][j][n]-window])\n",
    "            rightofpeak.append(df['Counts_F1'][j][df['Peak_Index'][j][n]+window])\n",
    "        \n",
    "        \n",
    "background=['']*len(leftofpeak)\n",
    "\n",
    "for n in range(0, len(leftofpeak)): # a more robust math function can be used here i guess\n",
    "    background[n] = np.round((leftofpeak[n] + rightofpeak[n]) / 2,4)\n",
    "\n",
    "    \n",
    "for n in tqdm(range(0, row, 1)): #peak index in angle array\n",
    "    df['Counts_F4'][n] = df['Counts_F1'][n]-background[n]\n",
    "    df['Counts_F4'][n][df['Counts_F4'][n]< 0] = 0\n",
    "    df['Counts_F4'][n] = (df['Counts_F4'][n]/ max(df['Counts_F4'][0])).round(3)\n",
    "\n",
    "for j in range(0, row, 1): #peak angles\n",
    "    somelist = []\n",
    "    for n in range(0, len(df['Peak_Index'][j])):\n",
    "        somelist.append(df['Counts_F4'][j][df['Peak_Index'][j][n]])\n",
    "#         df['Peak_Intensity'][j] = somelist[n]\n",
    "\n",
    "        [float(i) for i in somelist]\n",
    "#         somelist=np.asarray(somelist)\n",
    "        df.at[j, 'Peak_Intensity'] = somelist\n",
    "    \n",
    "for n in range(0, row, 1): \n",
    "    df['Peak_Intensity'][n] = np.asarray(df['Peak_Intensity'][n])"
   ]
  },
  {
   "cell_type": "markdown",
   "metadata": {},
   "source": [
    "## Now refinding Peaks after all processing\n"
   ]
  },
  {
   "cell_type": "code",
   "execution_count": 1443,
   "metadata": {},
   "outputs": [],
   "source": [
    "# for n in tqdm(range(0, row, 1)): #peak index in angle array\n",
    "#      df['Peak_Index'][n] = find_peaks_cwt(df['Counts_F4'][n], np.arange(10,15), noise_perc=0.02)\n",
    "\n",
    "# for j in tqdm(range(0, row, 1)): #peak angles\n",
    "#     test_list = []\n",
    "#     for n in range(0, len(df['Peak_Index'][j])):\n",
    "#         test_list.append(df['Angles'][j][df['Peak_Index'][j][n]])\n",
    "#         test_list_2 = np.round(test_list,2)\n",
    "#         [float(i) for i in test_list_2]\n",
    "#         df.at[j, 'Peak_Angle'] = test_list_2\n",
    "        \n",
    "# for n in range(0, row, 1): \n",
    "#     df['Peak_Angle'][n] = np.asarray(df['Peak_Angle'][n])\n",
    "    \n",
    "# window = 8//2 #arbitary guess at width of peaks errors out of window spills over index\n",
    "#                 #this can happen if peak is located near end of index\n",
    "# background=[]\n",
    "# for j in range(0, row, 1): #peak angles\n",
    "#     leftofpeak = []\n",
    "#     rightofpeak = []\n",
    "#     for n in range(0, len(df['Peak_Index'][j])):\n",
    "# #         try:\n",
    "#             leftofpeak.append(df['Counts_F4'][j][df['Peak_Index'][j][n]-window])\n",
    "#             rightofpeak.append(df['Counts_F4'][j][df['Peak_Index'][j][n]+window])\n",
    "        \n",
    "        \n",
    "# background=['']*len(leftofpeak)\n",
    "\n",
    "# for n in range(0, len(leftofpeak)): # a more robust math function can be used here i guess\n",
    "#     background[n] = np.round((leftofpeak[n] + rightofpeak[n]) / 2,4)\n",
    "\n",
    "    \n",
    "# for n in tqdm(range(0, row, 1)): #peak index in angle array\n",
    "#     df['Counts_F4'][n] = df['Counts_F4'][n]-background[n]\n",
    "#     df['Counts_F4'][n][df['Counts_F4'][n]< 0] = 0\n",
    "#     df['Counts_F4'][n] = (df['Counts_F4'][n]/ max(df['Counts_F4'][0])).round(3)\n",
    "\n",
    "# for j in range(0, row, 1): #peak angles\n",
    "#     somelist = []\n",
    "#     for n in range(0, len(df['Peak_Index'][j])):\n",
    "#         somelist.append(df['Counts_F4'][j][df['Peak_Index'][j][n]])\n",
    "# #         df['Peak_Intensity'][j] = somelist[n]\n",
    "\n",
    "#         [float(i) for i in somelist]\n",
    "# #         somelist=np.asarray(somelist)\n",
    "#         df.at[j, 'Peak_Intensity'] = somelist\n",
    "    \n",
    "# for n in range(0, row, 1): \n",
    "#     df['Peak_Intensity'][n] = np.asarray(df['Peak_Intensity'][n])"
   ]
  },
  {
   "cell_type": "markdown",
   "metadata": {},
   "source": [
    "### Checking background sum value: need to write a fx to minimize on this value"
   ]
  },
  {
   "cell_type": "code",
   "execution_count": 1444,
   "metadata": {},
   "outputs": [
    {
     "data": {
      "text/plain": [
       "2.112"
      ]
     },
     "execution_count": 1444,
     "metadata": {},
     "output_type": "execute_result"
    }
   ],
   "source": [
    "background\n",
    "total=0\n",
    "for n in range(0, len(background)): \n",
    "    total = total + background[n]\n",
    "total"
   ]
  },
  {
   "cell_type": "markdown",
   "metadata": {},
   "source": [
    "### Now Refiltering to Interested Samples"
   ]
  },
  {
   "cell_type": "code",
   "execution_count": 1445,
   "metadata": {},
   "outputs": [
    {
     "data": {
      "text/html": [
       "<div>\n",
       "<style scoped>\n",
       "    .dataframe tbody tr th:only-of-type {\n",
       "        vertical-align: middle;\n",
       "    }\n",
       "\n",
       "    .dataframe tbody tr th {\n",
       "        vertical-align: top;\n",
       "    }\n",
       "\n",
       "    .dataframe thead th {\n",
       "        text-align: right;\n",
       "    }\n",
       "</style>\n",
       "<table border=\"1\" class=\"dataframe\">\n",
       "  <thead>\n",
       "    <tr style=\"text-align: right;\">\n",
       "      <th></th>\n",
       "      <th>Name</th>\n",
       "      <th>Date</th>\n",
       "      <th>Time</th>\n",
       "      <th>Type</th>\n",
       "      <th>Scan_Mode</th>\n",
       "      <th>Alpha_1</th>\n",
       "      <th>Alpha_2</th>\n",
       "      <th>Beta_1</th>\n",
       "      <th>Current</th>\n",
       "      <th>Voltage</th>\n",
       "      <th>...</th>\n",
       "      <th>Start</th>\n",
       "      <th>Stop</th>\n",
       "      <th>Angles</th>\n",
       "      <th>Counts_Raw</th>\n",
       "      <th>Counts_Norm</th>\n",
       "      <th>Counts_F1</th>\n",
       "      <th>Peak_Index</th>\n",
       "      <th>Peak_Angle</th>\n",
       "      <th>Counts_F4</th>\n",
       "      <th>Peak_Intensity</th>\n",
       "    </tr>\n",
       "  </thead>\n",
       "  <tbody>\n",
       "    <tr>\n",
       "      <th>0</th>\n",
       "      <td>CsPbF3_AF_nK</td>\n",
       "      <td>07/16/19</td>\n",
       "      <td>18:40:43</td>\n",
       "      <td>Bragg-Brentano focusing</td>\n",
       "      <td>CONTINUOUS</td>\n",
       "      <td>1.54059</td>\n",
       "      <td>1.54441</td>\n",
       "      <td>1.39225</td>\n",
       "      <td>30</td>\n",
       "      <td>40</td>\n",
       "      <td>...</td>\n",
       "      <td>15</td>\n",
       "      <td>90</td>\n",
       "      <td>[15.0, 15.01, 15.02, 15.03, 15.04, 15.05, 15.0...</td>\n",
       "      <td>[3.0, 2.0, 3.0, 4.0, 4.0, 4.0, 1.0, 1.0, 4.0, ...</td>\n",
       "      <td>[0.026, 0.017, 0.026, 0.035, 0.035, 0.035, 0.0...</td>\n",
       "      <td>[0.025, 0.024, 0.024, 0.025, 0.025, 0.025, 0.0...</td>\n",
       "      <td>[14, 350, 1129, 1743, 2249, 2709, 3132, 3899, ...</td>\n",
       "      <td>[15.14, 18.5, 26.29, 32.43, 37.49, 42.09, 46.3...</td>\n",
       "      <td>[0.0, 0.0, 0.0, 0.0, 0.0, 0.0, 0.0, 0.0, 0.0, ...</td>\n",
       "      <td>[0.0, 0.045, 1.0, 0.0, 0.3, 0.026, 0.441, 0.2,...</td>\n",
       "    </tr>\n",
       "  </tbody>\n",
       "</table>\n",
       "<p>1 rows × 27 columns</p>\n",
       "</div>"
      ],
      "text/plain": [
       "           Name      Date      Time                     Type   Scan_Mode  \\\n",
       "0  CsPbF3_AF_nK  07/16/19  18:40:43  Bragg-Brentano focusing  CONTINUOUS   \n",
       "\n",
       "   Alpha_1  Alpha_2   Beta_1 Current Voltage  ... Start Stop  \\\n",
       "0  1.54059  1.54441  1.39225      30      40  ...    15   90   \n",
       "\n",
       "                                              Angles  \\\n",
       "0  [15.0, 15.01, 15.02, 15.03, 15.04, 15.05, 15.0...   \n",
       "\n",
       "                                          Counts_Raw  \\\n",
       "0  [3.0, 2.0, 3.0, 4.0, 4.0, 4.0, 1.0, 1.0, 4.0, ...   \n",
       "\n",
       "                                         Counts_Norm  \\\n",
       "0  [0.026, 0.017, 0.026, 0.035, 0.035, 0.035, 0.0...   \n",
       "\n",
       "                                           Counts_F1  \\\n",
       "0  [0.025, 0.024, 0.024, 0.025, 0.025, 0.025, 0.0...   \n",
       "\n",
       "                                          Peak_Index  \\\n",
       "0  [14, 350, 1129, 1743, 2249, 2709, 3132, 3899, ...   \n",
       "\n",
       "                                          Peak_Angle  \\\n",
       "0  [15.14, 18.5, 26.29, 32.43, 37.49, 42.09, 46.3...   \n",
       "\n",
       "                                           Counts_F4  \\\n",
       "0  [0.0, 0.0, 0.0, 0.0, 0.0, 0.0, 0.0, 0.0, 0.0, ...   \n",
       "\n",
       "                                      Peak_Intensity  \n",
       "0  [0.0, 0.045, 1.0, 0.0, 0.3, 0.026, 0.441, 0.2,...  \n",
       "\n",
       "[1 rows x 27 columns]"
      ]
     },
     "execution_count": 1445,
     "metadata": {},
     "output_type": "execute_result"
    }
   ],
   "source": [
    "df_filter1 = df[df.Name.str.contains(\"CsPb\")]\n",
    "# filter condition 2:\n",
    "df_filter2 = df_filter1[df_filter1.Name.str.contains(\"nK\")]\n",
    "\n",
    "# # filter condition 3: #1 = reverse, #2 = forward, depends on actual settings when measurement taken\n",
    "# df_filter3 = df_filter2[df_filter2.Type.str.contains(\"2\")]\n",
    "\n",
    "df_filter2.reset_index(drop=True, inplace=True)\n",
    "\n",
    "# observing your dataset before plotting\n",
    "df_filter2"
   ]
  },
  {
   "cell_type": "markdown",
   "metadata": {},
   "source": [
    "### Now Plotting Processed Data"
   ]
  },
  {
   "cell_type": "code",
   "execution_count": 1446,
   "metadata": {},
   "outputs": [
    {
     "data": {
      "image/png": "[encoded data removed]",
      "text/plain": [
       "<Figure size 432x288 with 1 Axes>"
      ]
     },
     "metadata": {},
     "output_type": "display_data"
    }
   ],
   "source": [
    "# filtered DataFrame to Plot\n",
    "DF = df_filter2\n",
    "\n",
    "for q in range (0, len(DF), 1):\n",
    "    #masking out bad peaks\n",
    "    a = DF['Peak_Intensity'][q]\n",
    "    a = np.ma.masked_where(a <= 0.005 , a)\n",
    "    \n",
    "    #plotting\n",
    "    plt.plot(DF.loc[q]['Angles'],DF.loc[q]['Counts_F4'], label=Name[q])\n",
    "    plt.plot(DF['Peak_Angle'][q],a+.05,'+',label=Name[q])\n",
    "\n",
    "\n",
    "plt.legend()\n",
    "plt.title('XRD')\n",
    "plt.ylim(0,1.1)\n",
    "plt.xlim(min(DF.loc[q]['Angles']),max(DF.loc[q]['Angles']))\n",
    "\n",
    "plt.ylabel('Intensity')\n",
    "plt.xlabel('2θ')\n",
    "plt.show()"
   ]
  }
 ],
 "metadata": {
  "kernelspec": {
   "display_name": "Python 3",
   "language": "python",
   "name": "python3"
  },
  "language_info": {
   "codemirror_mode": {
    "name": "ipython",
    "version": 3
   },
   "file_extension": ".py",
   "mimetype": "text/x-python",
   "name": "python",
   "nbconvert_exporter": "python",
   "pygments_lexer": "ipython3",
   "version": "3.7.5"
  }
 },
 "nbformat": 4,
 "nbformat_minor": 4
}
